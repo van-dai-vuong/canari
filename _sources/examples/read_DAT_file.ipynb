{
 "cells": [
  {
   "cell_type": "markdown",
   "id": "413333ad",
   "metadata": {},
   "source": [
    "# Read .DAT file"
   ]
  },
  {
   "cell_type": "code",
   "execution_count": null,
   "id": "63ba8162",
   "metadata": {},
   "outputs": [],
   "source": [
    "import pandas as pd \n",
    "\n",
    "data_file = ...\n",
    "df_raw = pd.read_csv(data_file,\n",
    "                    sep=\";\",  # Semicolon as delimiter\n",
    "                    quotechar='\"',  \n",
    "                    engine=\"python\",  \n",
    "                    na_values=[\"\"],  # Treat empty strings as NaN\n",
    "                    skipinitialspace=True,  \n",
    "                    encoding=\"ISO-8859-1\",\n",
    "                    )"
   ]
  }
 ],
 "metadata": {
  "language_info": {
   "name": "python"
  }
 },
 "nbformat": 4,
 "nbformat_minor": 5
}
